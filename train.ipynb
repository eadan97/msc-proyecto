{
 "cells": [
  {
   "cell_type": "code",
   "execution_count": 13,
   "metadata": {
    "collapsed": true,
    "ExecuteTime": {
     "start_time": "2023-04-19T16:01:02.439538Z",
     "end_time": "2023-04-19T16:01:02.456673Z"
    }
   },
   "outputs": [],
   "source": [
    "import copy\n",
    "\n",
    "import cornac\n",
    "import torch.ao.quantization\n",
    "from recommenders.datasets import movielens\n",
    "from recommenders.datasets.python_splitters import python_random_split\n",
    "from recommenders.models.cornac.cornac_utils import predict_ranking\n",
    "from recommenders.evaluation.python_evaluation import map_at_k, ndcg_at_k, precision_at_k, recall_at_k\n",
    "\n",
    "from recommenders.utils.timer import Timer"
   ]
  },
  {
   "cell_type": "code",
   "execution_count": 14,
   "outputs": [],
   "source": [
    "\n",
    "\n",
    "MOVIELENS_DATA_SIZE = '100k'\n",
    "\n",
    "# top k items to recommend\n",
    "TOP_K = 10\n",
    "\n",
    "# Model parameters\n",
    "LATENT_DIM = 100\n",
    "ENCODER_DIMS = [200]\n",
    "ACT_FUNC = \"tanh\"\n",
    "LIKELIHOOD = \"pois\"\n",
    "NUM_EPOCHS = 500\n",
    "BATCH_SIZE = 1024\n",
    "LEARNING_RATE = 0.001"
   ],
   "metadata": {
    "collapsed": false,
    "ExecuteTime": {
     "start_time": "2023-04-19T16:01:03.417243Z",
     "end_time": "2023-04-19T16:01:03.428244Z"
    }
   }
  },
  {
   "cell_type": "code",
   "execution_count": 15,
   "outputs": [
    {
     "name": "stderr",
     "output_type": "stream",
     "text": [
      "100%|██████████| 4.81k/4.81k [00:01<00:00, 3.82kKB/s]\n"
     ]
    }
   ],
   "source": [
    "data = movielens.load_pandas_df(\n",
    "    size=MOVIELENS_DATA_SIZE,\n",
    "    header=[\"userID\", \"itemID\", \"rating\"]\n",
    ")"
   ],
   "metadata": {
    "collapsed": false,
    "ExecuteTime": {
     "start_time": "2023-04-19T16:01:04.329895Z",
     "end_time": "2023-04-19T16:01:06.438809Z"
    }
   }
  },
  {
   "cell_type": "code",
   "execution_count": 16,
   "outputs": [],
   "source": [
    "train, test = python_random_split(data, 0.75)"
   ],
   "metadata": {
    "collapsed": false,
    "ExecuteTime": {
     "start_time": "2023-04-19T16:01:06.440770Z",
     "end_time": "2023-04-19T16:01:06.454073Z"
    }
   }
  },
  {
   "cell_type": "code",
   "execution_count": 17,
   "outputs": [
    {
     "name": "stdout",
     "output_type": "stream",
     "text": [
      "Number of users: 943\n",
      "Number of items: 1642\n"
     ]
    }
   ],
   "source": [
    "train_set = cornac.data.Dataset.from_uir(train.itertuples(index=False), seed=1234)\n",
    "\n",
    "print('Number of users: {}'.format(train_set.num_users))\n",
    "print('Number of items: {}'.format(train_set.num_items))"
   ],
   "metadata": {
    "collapsed": false,
    "ExecuteTime": {
     "start_time": "2023-04-19T16:01:06.455091Z",
     "end_time": "2023-04-19T16:01:06.595230Z"
    }
   }
  },
  {
   "cell_type": "code",
   "execution_count": 18,
   "outputs": [
    {
     "data": {
      "text/plain": "  0%|          | 0/500 [00:00<?, ?it/s]",
      "application/vnd.jupyter.widget-view+json": {
       "version_major": 2,
       "version_minor": 0,
       "model_id": "31eaf6f34c97430f8aa77f40bdfdce69"
      }
     },
     "metadata": {},
     "output_type": "display_data"
    },
    {
     "name": "stdout",
     "output_type": "stream",
     "text": [
      "Took 101.9498 seconds for training.\n"
     ]
    }
   ],
   "source": [
    "bivae = cornac.models.BiVAECF(\n",
    "    k=LATENT_DIM,\n",
    "    encoder_structure=ENCODER_DIMS,\n",
    "    act_fn=ACT_FUNC,\n",
    "    likelihood=LIKELIHOOD,\n",
    "    n_epochs=NUM_EPOCHS,\n",
    "    batch_size=BATCH_SIZE,\n",
    "    learning_rate=LEARNING_RATE,\n",
    "    seed=1234,\n",
    "    # use_gpu=torch.cuda.is_available(),\n",
    "    use_gpu=False,\n",
    "    verbose=True\n",
    ")\n",
    "\n",
    "with Timer() as t:\n",
    "    bivae.fit(train_set)\n",
    "print(\"Took {} seconds for training.\".format(t))"
   ],
   "metadata": {
    "collapsed": false,
    "ExecuteTime": {
     "start_time": "2023-04-19T16:01:06.597227Z",
     "end_time": "2023-04-19T16:02:48.551389Z"
    }
   }
  },
  {
   "cell_type": "code",
   "execution_count": 27,
   "outputs": [
    {
     "name": "stdout",
     "output_type": "stream",
     "text": [
      "Took 1.3402 seconds for prediction.\n",
      "MAP:\t0.139413\n",
      "NDCG:\t0.465443\n",
      "Precision@K:\t0.404671\n",
      "Recall@K:\t0.218016\n"
     ]
    }
   ],
   "source": [
    "def calculate_metrics(train, test, model):\n",
    "    with Timer() as t:\n",
    "        all_predictions = predict_ranking(model, train, usercol='userID', itemcol='itemID', remove_seen=True)\n",
    "    print(\"Took {} seconds for prediction.\".format(t))\n",
    "    eval_map = map_at_k(test, all_predictions, col_prediction='prediction', k=TOP_K)\n",
    "    eval_ndcg = ndcg_at_k(test, all_predictions, col_prediction='prediction', k=TOP_K)\n",
    "    eval_precision = precision_at_k(test, all_predictions, col_prediction='prediction', k=TOP_K)\n",
    "    eval_recall = recall_at_k(test, all_predictions, col_prediction='prediction', k=TOP_K)\n",
    "\n",
    "    print(\"MAP:\\t%f\" % eval_map,\n",
    "      \"NDCG:\\t%f\" % eval_ndcg,\n",
    "      \"Precision@K:\\t%f\" % eval_precision,\n",
    "      \"Recall@K:\\t%f\" % eval_recall, sep='\\n')\n",
    "calculate_metrics(train,test,bivae)"
   ],
   "metadata": {
    "collapsed": false,
    "ExecuteTime": {
     "start_time": "2023-04-19T16:05:32.160689Z",
     "end_time": "2023-04-19T16:05:40.118916Z"
    }
   }
  },
  {
   "cell_type": "code",
   "execution_count": 20,
   "outputs": [
    {
     "name": "stdout",
     "output_type": "stream",
     "text": [
      "BiVAECF model is saved to chkpts\\BiVAECF\\2023-04-19_16-02-56-116254.pkl\n"
     ]
    },
    {
     "data": {
      "text/plain": "'chkpts\\\\BiVAECF\\\\2023-04-19_16-02-56-116254.pkl'"
     },
     "execution_count": 20,
     "metadata": {},
     "output_type": "execute_result"
    }
   ],
   "source": [
    "bivae.save('ckpts')"
   ],
   "metadata": {
    "collapsed": false,
    "ExecuteTime": {
     "start_time": "2023-04-19T16:02:56.116254Z",
     "end_time": "2023-04-19T16:02:56.132256Z"
    }
   }
  },
  {
   "cell_type": "code",
   "execution_count": 22,
   "outputs": [],
   "source": [
    "import torch\n",
    "model_quatized = torch.ao.quantization.quantize_dynamic(\n",
    "    bivae.bivae,\n",
    "    {torch.nn.Linear},\n",
    "    dtype=torch.qint8\n",
    ")"
   ],
   "metadata": {
    "collapsed": false,
    "ExecuteTime": {
     "start_time": "2023-04-19T16:02:56.148254Z",
     "end_time": "2023-04-19T16:02:56.194253Z"
    }
   }
  },
  {
   "cell_type": "code",
   "execution_count": 35,
   "outputs": [
    {
     "name": "stdout",
     "output_type": "stream",
     "text": [
      "Took 1.2100 seconds for prediction.\n",
      "MAP:\t0.139413\n",
      "NDCG:\t0.465443\n",
      "Precision@K:\t0.404671\n",
      "Recall@K:\t0.218016\n"
     ]
    }
   ],
   "source": [
    "import copy\n",
    "small_bivae = bivae.clone()\n",
    "small_bivae.bivae=model_quatized\n",
    "calculate_metrics(train,test,bivae)"
   ],
   "metadata": {
    "collapsed": false,
    "ExecuteTime": {
     "start_time": "2023-04-19T16:08:58.368900Z",
     "end_time": "2023-04-19T16:09:06.065613Z"
    }
   }
  },
  {
   "cell_type": "code",
   "execution_count": 41,
   "outputs": [
    {
     "name": "stdout",
     "output_type": "stream",
     "text": [
      "BiVAECF model is saved to ckpts\\BiVAECF\\2023-04-19_16-18-13-155663.pkl\n"
     ]
    },
    {
     "data": {
      "text/plain": "'ckpts\\\\BiVAECF\\\\2023-04-19_16-18-13-155663.pkl'"
     },
     "execution_count": 41,
     "metadata": {},
     "output_type": "execute_result"
    }
   ],
   "source": [
    "small_bivae.save(\"ckpts\")"
   ],
   "metadata": {
    "collapsed": false,
    "ExecuteTime": {
     "start_time": "2023-04-19T16:18:13.155663Z",
     "end_time": "2023-04-19T16:18:13.204697Z"
    }
   }
  },
  {
   "cell_type": "code",
   "execution_count": 36,
   "outputs": [
    {
     "data": {
      "text/plain": "BiVAE(\n  (act_fn): Tanh()\n  (user_encoder): Sequential(\n    (fc0): DynamicQuantizedLinear(in_features=1642, out_features=200, dtype=torch.qint8, qscheme=torch.per_tensor_affine)\n    (act0): Tanh()\n  )\n  (user_mu): DynamicQuantizedLinear(in_features=200, out_features=100, dtype=torch.qint8, qscheme=torch.per_tensor_affine)\n  (user_std): DynamicQuantizedLinear(in_features=200, out_features=100, dtype=torch.qint8, qscheme=torch.per_tensor_affine)\n  (item_encoder): Sequential(\n    (fc0): DynamicQuantizedLinear(in_features=943, out_features=200, dtype=torch.qint8, qscheme=torch.per_tensor_affine)\n    (act0): Tanh()\n  )\n  (item_mu): DynamicQuantizedLinear(in_features=200, out_features=100, dtype=torch.qint8, qscheme=torch.per_tensor_affine)\n  (item_std): DynamicQuantizedLinear(in_features=200, out_features=100, dtype=torch.qint8, qscheme=torch.per_tensor_affine)\n)"
     },
     "execution_count": 36,
     "metadata": {},
     "output_type": "execute_result"
    }
   ],
   "source": [
    "model_quatized"
   ],
   "metadata": {
    "collapsed": false,
    "ExecuteTime": {
     "start_time": "2023-04-19T16:09:29.789145Z",
     "end_time": "2023-04-19T16:09:29.838841Z"
    }
   }
  },
  {
   "cell_type": "code",
   "execution_count": 38,
   "outputs": [],
   "source": [
    "import os\n",
    "\n",
    "\n",
    "def get_model_size(model, label=\"\"):\n",
    "    torch.save(model.state_dict(), \"temp.p\")\n",
    "    size=os.path.getsize(\"temp.p\")\n",
    "    print(\"model: \",label,' \\t','Size (KB):', size/1e3)\n",
    "    os.remove('temp.p')\n",
    "    return size"
   ],
   "metadata": {
    "collapsed": false,
    "ExecuteTime": {
     "start_time": "2023-04-19T16:17:02.706127Z",
     "end_time": "2023-04-19T16:17:02.735128Z"
    }
   }
  },
  {
   "cell_type": "code",
   "execution_count": 39,
   "outputs": [
    {
     "name": "stdout",
     "output_type": "stream",
     "text": [
      "model:  original  \t Size (KB): 2394.711\n"
     ]
    },
    {
     "data": {
      "text/plain": "2394711"
     },
     "execution_count": 39,
     "metadata": {},
     "output_type": "execute_result"
    }
   ],
   "source": [
    "get_model_size(bivae.bivae, \"original\")"
   ],
   "metadata": {
    "collapsed": false,
    "ExecuteTime": {
     "start_time": "2023-04-19T16:17:02.820126Z",
     "end_time": "2023-04-19T16:17:02.839126Z"
    }
   }
  },
  {
   "cell_type": "code",
   "execution_count": 40,
   "outputs": [
    {
     "name": "stdout",
     "output_type": "stream",
     "text": [
      "model:  quantized  \t Size (KB): 607.695\n"
     ]
    },
    {
     "data": {
      "text/plain": "607695"
     },
     "execution_count": 40,
     "metadata": {},
     "output_type": "execute_result"
    }
   ],
   "source": [
    "get_model_size(model_quatized,\"quantized\")"
   ],
   "metadata": {
    "collapsed": false,
    "ExecuteTime": {
     "start_time": "2023-04-19T16:17:14.228749Z",
     "end_time": "2023-04-19T16:17:14.263841Z"
    }
   }
  },
  {
   "cell_type": "code",
   "execution_count": null,
   "outputs": [],
   "source": [],
   "metadata": {
    "collapsed": false
   }
  }
 ],
 "metadata": {
  "kernelspec": {
   "display_name": "Python 3",
   "language": "python",
   "name": "python3"
  },
  "language_info": {
   "codemirror_mode": {
    "name": "ipython",
    "version": 2
   },
   "file_extension": ".py",
   "mimetype": "text/x-python",
   "name": "python",
   "nbconvert_exporter": "python",
   "pygments_lexer": "ipython2",
   "version": "2.7.6"
  }
 },
 "nbformat": 4,
 "nbformat_minor": 0
}

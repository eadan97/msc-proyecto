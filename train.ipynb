{
 "cells": [
  {
   "cell_type": "code",
   "execution_count": 1,
   "metadata": {
    "collapsed": true,
    "ExecuteTime": {
     "end_time": "2023-06-01T02:48:17.802464Z",
     "start_time": "2023-06-01T02:48:15.020620600Z"
    }
   },
   "outputs": [
    {
     "name": "stdout",
     "output_type": "stream",
     "text": [
      "FM model is only supported on Linux.\n",
      "Windows executable can be found at http://www.libfm.org.\n"
     ]
    }
   ],
   "source": [
    "import copy\n",
    "\n",
    "import cornac\n",
    "from recommenders.datasets import movielens\n",
    "from recommenders.datasets.python_splitters import python_random_split\n",
    "from recommenders.models.cornac.cornac_utils import predict_ranking\n",
    "from recommenders.evaluation.python_evaluation import map_at_k, ndcg_at_k, precision_at_k, recall_at_k\n",
    "\n",
    "from recommenders.utils.timer import Timer\n",
    "\n",
    "from src.compressors import quantization\n",
    "from src.metrics import get_model_size, calculate_metrics"
   ]
  },
  {
   "cell_type": "code",
   "execution_count": 2,
   "outputs": [],
   "source": [
    "\n",
    "\n",
    "MOVIELENS_DATA_SIZE = '100k'\n",
    "\n",
    "# top k items to recommend\n",
    "TOP_K = 10\n",
    "\n",
    "# Model parameters\n",
    "LATENT_DIM = 100\n",
    "ENCODER_DIMS = [200]\n",
    "ACT_FUNC = \"tanh\"\n",
    "LIKELIHOOD = \"pois\"\n",
    "NUM_EPOCHS = 500\n",
    "BATCH_SIZE = 1024\n",
    "LEARNING_RATE = 0.001"
   ],
   "metadata": {
    "collapsed": false,
    "ExecuteTime": {
     "end_time": "2023-06-01T02:48:54.889583800Z",
     "start_time": "2023-06-01T02:48:54.877643500Z"
    }
   }
  },
  {
   "cell_type": "code",
   "execution_count": 3,
   "outputs": [
    {
     "name": "stderr",
     "output_type": "stream",
     "text": [
      "100%|██████████| 4.81k/4.81k [00:23<00:00, 202KB/s]\n"
     ]
    }
   ],
   "source": [
    "data = movielens.load_pandas_df(\n",
    "    size=MOVIELENS_DATA_SIZE,\n",
    "    header=[\"userID\", \"itemID\", \"rating\"]\n",
    ")"
   ],
   "metadata": {
    "collapsed": false,
    "ExecuteTime": {
     "end_time": "2023-06-01T02:49:22.995590400Z",
     "start_time": "2023-06-01T02:48:57.678358200Z"
    }
   }
  },
  {
   "cell_type": "code",
   "execution_count": 4,
   "outputs": [],
   "source": [
    "train, test = python_random_split(data, 0.75)"
   ],
   "metadata": {
    "collapsed": false,
    "ExecuteTime": {
     "end_time": "2023-06-01T02:49:23.000596700Z",
     "start_time": "2023-06-01T02:49:22.995590400Z"
    }
   }
  },
  {
   "cell_type": "code",
   "execution_count": 5,
   "outputs": [
    {
     "name": "stdout",
     "output_type": "stream",
     "text": [
      "Number of users: 943\n",
      "Number of items: 1642\n"
     ]
    }
   ],
   "source": [
    "train_set = cornac.data.Dataset.from_uir(train.itertuples(index=False), seed=1234)\n",
    "\n",
    "print('Number of users: {}'.format(train_set.num_users))\n",
    "print('Number of items: {}'.format(train_set.num_items))"
   ],
   "metadata": {
    "collapsed": false,
    "ExecuteTime": {
     "end_time": "2023-06-01T02:49:23.298704500Z",
     "start_time": "2023-06-01T02:49:23.001101100Z"
    }
   }
  },
  {
   "cell_type": "code",
   "execution_count": 6,
   "outputs": [
    {
     "data": {
      "text/plain": "  0%|          | 0/500 [00:00<?, ?it/s]",
      "application/vnd.jupyter.widget-view+json": {
       "version_major": 2,
       "version_minor": 0,
       "model_id": "e69c6606e1b145588a093563f8bac2f4"
      }
     },
     "metadata": {},
     "output_type": "display_data"
    },
    {
     "name": "stdout",
     "output_type": "stream",
     "text": [
      "Took 96.2508 seconds for training.\n"
     ]
    }
   ],
   "source": [
    "bivae = cornac.models.BiVAECF(\n",
    "    k=LATENT_DIM,\n",
    "    encoder_structure=ENCODER_DIMS,\n",
    "    act_fn=ACT_FUNC,\n",
    "    likelihood=LIKELIHOOD,\n",
    "    n_epochs=NUM_EPOCHS,\n",
    "    batch_size=BATCH_SIZE,\n",
    "    learning_rate=LEARNING_RATE,\n",
    "    seed=1234,\n",
    "    # use_gpu=torch.cuda.is_available(),\n",
    "    use_gpu=False,\n",
    "    verbose=True\n",
    ")\n",
    "\n",
    "with Timer() as t:\n",
    "    bivae.fit(train_set)\n",
    "print(\"Took {} seconds for training.\".format(t))"
   ],
   "metadata": {
    "collapsed": false,
    "ExecuteTime": {
     "end_time": "2023-06-01T02:50:59.570289200Z",
     "start_time": "2023-06-01T02:49:23.298704500Z"
    }
   }
  },
  {
   "cell_type": "code",
   "execution_count": 7,
   "outputs": [],
   "source": [
    "base_metrics = calculate_metrics(train, test, bivae)"
   ],
   "metadata": {
    "collapsed": false,
    "ExecuteTime": {
     "end_time": "2023-06-01T02:51:04.904794300Z",
     "start_time": "2023-06-01T02:50:59.574293400Z"
    }
   }
  },
  {
   "cell_type": "code",
   "execution_count": 30,
   "outputs": [],
   "source": [
    "import torch.jit\n",
    "from torch import Tensor, IntTensor, ByteTensor, LongTensor\n",
    "from types import MethodType\n",
    "from cornac.models.bivaecf.bivae import BiVAE\n",
    "\n",
    "\n",
    "\n",
    "def forward(self, user_idx):\n",
    "    theta_u = self.mu_theta[user_idx].view(1, -1)\n",
    "    beta = self.mu_beta\n",
    "    known_item_scores = (\n",
    "            self.decode_user(theta_u, beta).cpu()#.numpy().ravel()\n",
    "        )\n",
    "\n",
    "    return known_item_scores\n",
    "\n",
    "bivae.bivae.forward = MethodType(forward, bivae.bivae)\n",
    "\n",
    "example = (bivae.bivae.mu_theta[1].view(1, -1), bivae.bivae.mu_beta)\n",
    "bivae.bivae.eval()\n",
    "# scripted_model = torch.jit.trace(bivae.bivae, LongTensor([0]))\n",
    "scripted_model = torch.jit.script(bivae.bivae)\n",
    "scripted_model._save_for_lite_interpreter(\"model.pt\")"
   ],
   "metadata": {
    "collapsed": false,
    "ExecuteTime": {
     "end_time": "2023-06-01T03:02:31.739453700Z",
     "start_time": "2023-06-01T03:02:31.684899300Z"
    }
   }
  },
  {
   "cell_type": "code",
   "execution_count": 24,
   "outputs": [
    {
     "data": {
      "text/plain": "True"
     },
     "execution_count": 24,
     "metadata": {},
     "output_type": "execute_result"
    }
   ],
   "source": [
    "bivae.bivae.training"
   ],
   "metadata": {
    "collapsed": false,
    "ExecuteTime": {
     "end_time": "2023-06-01T02:58:24.887903700Z",
     "start_time": "2023-06-01T02:58:24.875888Z"
    }
   }
  },
  {
   "cell_type": "code",
   "execution_count": 20,
   "outputs": [
    {
     "name": "stdout",
     "output_type": "stream",
     "text": [
      "BiVAECF model is saved to chkpts\\BiVAECF\\2023-04-19_16-02-56-116254.pkl\n"
     ]
    },
    {
     "data": {
      "text/plain": "'chkpts\\\\BiVAECF\\\\2023-04-19_16-02-56-116254.pkl'"
     },
     "execution_count": 20,
     "metadata": {},
     "output_type": "execute_result"
    }
   ],
   "source": [
    "bivae.save('ckpts')"
   ],
   "metadata": {
    "collapsed": false,
    "ExecuteTime": {
     "start_time": "2023-04-19T16:02:56.116254Z",
     "end_time": "2023-04-19T16:02:56.132256Z"
    }
   }
  },
  {
   "cell_type": "code",
   "execution_count": 22,
   "outputs": [],
   "source": [
    "import torch.\n",
    "\n",
    "model_quatized = torch.ao.quantization.quantize_dynamic(\n",
    "    bivae.bivae,\n",
    "    {torch.nn.Linear},\n",
    "    dtype=torch.qint8\n",
    ")"
   ],
   "metadata": {
    "collapsed": false,
    "ExecuteTime": {
     "start_time": "2023-04-19T16:02:56.148254Z",
     "end_time": "2023-04-19T16:02:56.194253Z"
    }
   }
  },
  {
   "cell_type": "code",
   "execution_count": 35,
   "outputs": [
    {
     "name": "stdout",
     "output_type": "stream",
     "text": [
      "Took 1.2100 seconds for prediction.\n",
      "MAP:\t0.139413\n",
      "NDCG:\t0.465443\n",
      "Precision@K:\t0.404671\n",
      "Recall@K:\t0.218016\n"
     ]
    }
   ],
   "source": [
    "quantized_bivae = quantization.get_post_dynamic(bivae)\n",
    "calculate_metrics(train, test, bivae)"
   ],
   "metadata": {
    "collapsed": false,
    "ExecuteTime": {
     "start_time": "2023-04-19T16:08:58.368900Z",
     "end_time": "2023-04-19T16:09:06.065613Z"
    }
   }
  },
  {
   "cell_type": "code",
   "execution_count": 41,
   "outputs": [
    {
     "name": "stdout",
     "output_type": "stream",
     "text": [
      "BiVAECF model is saved to ckpts\\BiVAECF\\2023-04-19_16-18-13-155663.pkl\n"
     ]
    },
    {
     "data": {
      "text/plain": "'ckpts\\\\BiVAECF\\\\2023-04-19_16-18-13-155663.pkl'"
     },
     "execution_count": 41,
     "metadata": {},
     "output_type": "execute_result"
    }
   ],
   "source": [
    "quantized_bivae.save(\"ckpts\")"
   ],
   "metadata": {
    "collapsed": false,
    "ExecuteTime": {
     "start_time": "2023-04-19T16:18:13.155663Z",
     "end_time": "2023-04-19T16:18:13.204697Z"
    }
   }
  },
  {
   "cell_type": "code",
   "execution_count": 39,
   "outputs": [
    {
     "name": "stdout",
     "output_type": "stream",
     "text": [
      "model:  original  \t Size (KB): 2394.711\n"
     ]
    },
    {
     "data": {
      "text/plain": "2394711"
     },
     "execution_count": 39,
     "metadata": {},
     "output_type": "execute_result"
    }
   ],
   "source": [
    "get_model_size(bivae.bivae, \"original\")"
   ],
   "metadata": {
    "collapsed": false,
    "ExecuteTime": {
     "start_time": "2023-04-19T16:17:02.820126Z",
     "end_time": "2023-04-19T16:17:02.839126Z"
    }
   }
  },
  {
   "cell_type": "code",
   "execution_count": 40,
   "outputs": [
    {
     "name": "stdout",
     "output_type": "stream",
     "text": [
      "model:  quantized  \t Size (KB): 607.695\n"
     ]
    },
    {
     "data": {
      "text/plain": "607695"
     },
     "execution_count": 40,
     "metadata": {},
     "output_type": "execute_result"
    }
   ],
   "source": [
    "get_model_size(model_quatized, \"quantized\")"
   ],
   "metadata": {
    "collapsed": false,
    "ExecuteTime": {
     "start_time": "2023-04-19T16:17:14.228749Z",
     "end_time": "2023-04-19T16:17:14.263841Z"
    }
   }
  },
  {
   "cell_type": "code",
   "execution_count": null,
   "outputs": [],
   "source": [],
   "metadata": {
    "collapsed": false
   }
  }
 ],
 "metadata": {
  "kernelspec": {
   "display_name": "Python 3",
   "language": "python",
   "name": "python3"
  },
  "language_info": {
   "codemirror_mode": {
    "name": "ipython",
    "version": 2
   },
   "file_extension": ".py",
   "mimetype": "text/x-python",
   "name": "python",
   "nbconvert_exporter": "python",
   "pygments_lexer": "ipython2",
   "version": "2.7.6"
  }
 },
 "nbformat": 4,
 "nbformat_minor": 0
}

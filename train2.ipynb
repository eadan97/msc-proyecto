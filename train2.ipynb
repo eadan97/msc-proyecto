{
 "cells": [
  {
   "cell_type": "code",
   "execution_count": null,
   "metadata": {
    "collapsed": true
   },
   "outputs": [],
   "source": [
    "import copy\n",
    "\n",
    "import cornac\n",
    "from recommenders.datasets import movielens\n",
    "from recommenders.datasets.python_splitters import python_random_split\n",
    "from recommenders.models.cornac.cornac_utils import predict_ranking\n",
    "from recommenders.evaluation.python_evaluation import map_at_k, ndcg_at_k, precision_at_k, recall_at_k\n",
    "\n",
    "from recommenders.utils.timer import Timer\n",
    "\n",
    "from src.compressors import quantization\n",
    "from src.metrics import get_model_size, calculate_metrics"
   ]
  },
  {
   "cell_type": "code",
   "execution_count": 12,
   "outputs": [],
   "source": [
    "\n",
    "\n",
    "MOVIELENS_DATA_SIZE = '1M'\n",
    "\n",
    "# top k items to recommend\n",
    "TOP_K = 10\n",
    "\n",
    "# Model parameters\n",
    "LATENT_DIM = 100\n",
    "ENCODER_DIMS = [200]\n",
    "ACT_FUNC = \"tanh\"\n",
    "LIKELIHOOD = \"pois\"\n",
    "NUM_EPOCHS = 500\n",
    "BATCH_SIZE = 1024\n",
    "LEARNING_RATE = 0.001"
   ],
   "metadata": {
    "collapsed": false,
    "ExecuteTime": {
     "end_time": "2023-06-01T19:38:18.607103100Z",
     "start_time": "2023-06-01T19:38:18.582649200Z"
    }
   }
  },
  {
   "cell_type": "code",
   "execution_count": 13,
   "outputs": [
    {
     "name": "stderr",
     "output_type": "stream",
     "text": [
      "100%|██████████| 5.78k/5.78k [00:01<00:00, 3.93kKB/s]\n"
     ]
    }
   ],
   "source": [
    "data = movielens.load_pandas_df(\n",
    "    size=MOVIELENS_DATA_SIZE,\n",
    "    header=[\"userID\", \"itemID\", \"rating\"]\n",
    ")"
   ],
   "metadata": {
    "collapsed": false,
    "ExecuteTime": {
     "end_time": "2023-06-01T19:38:26.001910800Z",
     "start_time": "2023-06-01T19:38:18.923029900Z"
    }
   }
  },
  {
   "cell_type": "code",
   "execution_count": 14,
   "outputs": [],
   "source": [
    "train, test = python_random_split(data, 0.75)"
   ],
   "metadata": {
    "collapsed": false,
    "ExecuteTime": {
     "end_time": "2023-06-01T19:38:26.111160800Z",
     "start_time": "2023-06-01T19:38:25.995355200Z"
    }
   }
  },
  {
   "cell_type": "code",
   "execution_count": 15,
   "outputs": [
    {
     "name": "stdout",
     "output_type": "stream",
     "text": [
      "Number of users: 6040\n",
      "Number of items: 3676\n"
     ]
    }
   ],
   "source": [
    "train_set = cornac.data.Dataset.from_uir(train.itertuples(index=False), seed=1234)\n",
    "\n",
    "print('Number of users: {}'.format(train_set.num_users))\n",
    "print('Number of items: {}'.format(train_set.num_items))"
   ],
   "metadata": {
    "collapsed": false,
    "ExecuteTime": {
     "end_time": "2023-06-01T19:38:28.304680500Z",
     "start_time": "2023-06-01T19:38:26.125598900Z"
    }
   }
  },
  {
   "cell_type": "code",
   "execution_count": null,
   "outputs": [
    {
     "data": {
      "text/plain": "  0%|          | 0/500 [00:00<?, ?it/s]",
      "application/vnd.jupyter.widget-view+json": {
       "version_major": 2,
       "version_minor": 0,
       "model_id": "ec5105f6176344ae94697327aa22db16"
      }
     },
     "metadata": {},
     "output_type": "display_data"
    }
   ],
   "source": [
    "bivae = cornac.models.BiVAECF(\n",
    "    k=LATENT_DIM,\n",
    "    encoder_structure=ENCODER_DIMS,\n",
    "    act_fn=ACT_FUNC,\n",
    "    likelihood=LIKELIHOOD,\n",
    "    n_epochs=NUM_EPOCHS,\n",
    "    batch_size=BATCH_SIZE,\n",
    "    learning_rate=LEARNING_RATE,\n",
    "    seed=1234,\n",
    "    # use_gpu=torch.cuda.is_available(),\n",
    "    use_gpu=False,\n",
    "    verbose=True\n",
    ")\n",
    "\n",
    "with Timer() as t:\n",
    "    bivae.fit(train_set)\n",
    "print(\"Took {} seconds for training.\".format(t))"
   ],
   "metadata": {
    "collapsed": false,
    "is_executing": true,
    "ExecuteTime": {
     "start_time": "2023-06-01T19:38:28.310298100Z"
    }
   }
  },
  {
   "cell_type": "code",
   "execution_count": null,
   "outputs": [],
   "source": [
    "base_metrics = calculate_metrics(train, test, bivae)"
   ],
   "metadata": {
    "collapsed": false,
    "is_executing": true
   }
  },
  {
   "cell_type": "code",
   "execution_count": null,
   "outputs": [],
   "source": [
    "from torch.utils.mobile_optimizer import optimize_for_mobile\n",
    "import torch.jit\n",
    "from torch import Tensor, IntTensor, ByteTensor, LongTensor\n",
    "from types import MethodType\n",
    "from cornac.models.bivaecf.bivae import BiVAE\n",
    "\n",
    "bivae2=copy.deepcopy(bivae.bivae)\n",
    "\n",
    "def forward(self, user_idx):\n",
    "    theta_u = self.mu_theta[user_idx].view(1, -1)\n",
    "    beta = self.mu_beta\n",
    "    known_item_scores = (\n",
    "            self.decode_user(theta_u, beta).cpu()#.numpy().ravel()\n",
    "        )\n",
    "\n",
    "    return known_item_scores\n",
    "\n",
    "bivae2.forward = MethodType(forward, bivae2)\n",
    "\n",
    "example = (bivae2.mu_theta[1].view(1, -1), bivae2.mu_beta)\n",
    "bivae2.eval()\n",
    "# scripted_model = torch.jit.trace(bivae2, LongTensor([0]))\n",
    "scripted_model = torch.jit.script(bivae2)\n",
    "scripted_model._save_for_lite_interpreter(\"normal.pt\")\n",
    "\n",
    "optimized  = optimize_for_mobile(scripted_model)\n",
    "optimized._save_for_lite_interpreter(\"opti.pt\")\n",
    "\n",
    "quantized_model=torch.quantization.convert(bivae2)\n",
    "quantized = torch.jit.script(quantized_model)\n",
    "quantized._save_for_lite_interpreter(\"quant.pt\")\n",
    "\n",
    "both  =  optimize_for_mobile(scripted_model)\n",
    "both._save_for_lite_interpreter(\"both.pt\")"
   ],
   "metadata": {
    "collapsed": false,
    "is_executing": true
   }
  },
  {
   "cell_type": "code",
   "execution_count": null,
   "outputs": [],
   "source": [
    "%%time\n",
    "for _ in range(100000):\n",
    "    scripted_model(LongTensor([0]))"
   ],
   "metadata": {
    "collapsed": false
   }
  },
  {
   "cell_type": "code",
   "execution_count": null,
   "outputs": [],
   "source": [
    "%%time\n",
    "for _ in range(100000):\n",
    "    quantized(LongTensor([0]))"
   ],
   "metadata": {
    "collapsed": false
   }
  },
  {
   "cell_type": "code",
   "execution_count": null,
   "outputs": [],
   "source": [
    "%%time\n",
    "for _ in range(100000):\n",
    "    optimized(LongTensor([0]))"
   ],
   "metadata": {
    "collapsed": false
   }
  },
  {
   "cell_type": "code",
   "execution_count": null,
   "outputs": [],
   "source": [
    "%%time\n",
    "for _ in range(100000):\n",
    "    both(LongTensor([0]))"
   ],
   "metadata": {
    "collapsed": false
   }
  },
  {
   "cell_type": "code",
   "execution_count": 22,
   "outputs": [],
   "source": [
    "# import torch.ao\n",
    "#\n",
    "# model_quatized = torch.ao.quantization.quantize_dynamic(\n",
    "#     bivae.bivae,\n",
    "#     {torch.nn.Linear},\n",
    "#     dtype=torch.qint8\n",
    "# )"
   ],
   "metadata": {
    "collapsed": false,
    "ExecuteTime": {
     "start_time": "2023-04-19T16:02:56.148254Z",
     "end_time": "2023-04-19T16:02:56.194253Z"
    }
   }
  },
  {
   "cell_type": "code",
   "execution_count": null,
   "outputs": [],
   "source": [
    "quantized_bivae = quantization.get_post_dynamic(bivae)\n",
    "calculate_metrics(train, test, bivae)"
   ],
   "metadata": {
    "collapsed": false,
    "is_executing": true
   }
  },
  {
   "cell_type": "code",
   "execution_count": 41,
   "outputs": [
    {
     "name": "stdout",
     "output_type": "stream",
     "text": [
      "BiVAECF model is saved to ckpts\\BiVAECF\\2023-04-19_16-18-13-155663.pkl\n"
     ]
    },
    {
     "data": {
      "text/plain": "'ckpts\\\\BiVAECF\\\\2023-04-19_16-18-13-155663.pkl'"
     },
     "execution_count": 41,
     "metadata": {},
     "output_type": "execute_result"
    }
   ],
   "source": [
    "# quantized_bivae.save(\"ckpts\")"
   ],
   "metadata": {
    "collapsed": false,
    "ExecuteTime": {
     "start_time": "2023-04-19T16:18:13.155663Z",
     "end_time": "2023-04-19T16:18:13.204697Z"
    }
   }
  },
  {
   "cell_type": "code",
   "execution_count": 39,
   "outputs": [
    {
     "name": "stdout",
     "output_type": "stream",
     "text": [
      "model:  original  \t Size (KB): 2394.711\n"
     ]
    },
    {
     "data": {
      "text/plain": "2394711"
     },
     "execution_count": 39,
     "metadata": {},
     "output_type": "execute_result"
    }
   ],
   "source": [
    "# get_model_size(bivae.bivae, \"original\")"
   ],
   "metadata": {
    "collapsed": false,
    "ExecuteTime": {
     "start_time": "2023-04-19T16:17:02.820126Z",
     "end_time": "2023-04-19T16:17:02.839126Z"
    }
   }
  },
  {
   "cell_type": "code",
   "execution_count": 40,
   "outputs": [
    {
     "name": "stdout",
     "output_type": "stream",
     "text": [
      "model:  quantized  \t Size (KB): 607.695\n"
     ]
    },
    {
     "data": {
      "text/plain": "607695"
     },
     "execution_count": 40,
     "metadata": {},
     "output_type": "execute_result"
    }
   ],
   "source": [
    "# get_model_size(model_quatized, \"quantized\")"
   ],
   "metadata": {
    "collapsed": false,
    "ExecuteTime": {
     "start_time": "2023-04-19T16:17:14.228749Z",
     "end_time": "2023-04-19T16:17:14.263841Z"
    }
   }
  },
  {
   "cell_type": "code",
   "execution_count": null,
   "outputs": [],
   "source": [],
   "metadata": {
    "collapsed": false
   }
  }
 ],
 "metadata": {
  "kernelspec": {
   "display_name": "Python 3",
   "language": "python",
   "name": "python3"
  },
  "language_info": {
   "codemirror_mode": {
    "name": "ipython",
    "version": 2
   },
   "file_extension": ".py",
   "mimetype": "text/x-python",
   "name": "python",
   "nbconvert_exporter": "python",
   "pygments_lexer": "ipython2",
   "version": "2.7.6"
  }
 },
 "nbformat": 4,
 "nbformat_minor": 0
}

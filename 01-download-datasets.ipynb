{
 "cells": [
  {
   "cell_type": "code",
   "execution_count": 6,
   "metadata": {
    "collapsed": true,
    "ExecuteTime": {
     "start_time": "2023-04-19T10:01:56.533055Z",
     "end_time": "2023-04-19T10:02:00.492449Z"
    }
   },
   "outputs": [],
   "source": [
    "from recommenders.datasets import movielens"
   ]
  },
  {
   "cell_type": "code",
   "execution_count": 11,
   "outputs": [
    {
     "name": "stderr",
     "output_type": "stream",
     "text": [
      "100%|██████████| 5.78k/5.78k [05:05<00:00, 18.9KB/s]\n",
      "100%|██████████| 194k/194k [02:50<00:00, 1.14kKB/s]  \n"
     ]
    }
   ],
   "source": [
    "df100k=movielens.load_pandas_df(size='100k', local_cache_path='data')\n",
    "df1m=movielens.load_pandas_df(size='1m', local_cache_path='data')\n",
    "df20m=movielens.load_pandas_df(size='20m', local_cache_path='data')"
   ],
   "metadata": {
    "collapsed": false,
    "ExecuteTime": {
     "start_time": "2023-04-19T10:04:02.556570Z",
     "end_time": "2023-04-19T10:15:26.202840Z"
    }
   }
  },
  {
   "cell_type": "code",
   "execution_count": 13,
   "outputs": [
    {
     "data": {
      "text/plain": "943"
     },
     "execution_count": 13,
     "metadata": {},
     "output_type": "execute_result"
    }
   ],
   "source": [
    "df100k.userID.nunique()"
   ],
   "metadata": {
    "collapsed": false,
    "ExecuteTime": {
     "start_time": "2023-04-19T10:34:31.186762Z",
     "end_time": "2023-04-19T10:34:31.221368Z"
    }
   }
  }
 ],
 "metadata": {
  "kernelspec": {
   "display_name": "Python 3",
   "language": "python",
   "name": "python3"
  },
  "language_info": {
   "codemirror_mode": {
    "name": "ipython",
    "version": 2
   },
   "file_extension": ".py",
   "mimetype": "text/x-python",
   "name": "python",
   "nbconvert_exporter": "python",
   "pygments_lexer": "ipython2",
   "version": "2.7.6"
  }
 },
 "nbformat": 4,
 "nbformat_minor": 0
}
